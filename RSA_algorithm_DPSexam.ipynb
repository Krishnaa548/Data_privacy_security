{
  "cells": [
    {
      "cell_type": "markdown",
      "metadata": {
        "id": "view-in-github",
        "colab_type": "text"
      },
      "source": [
        "<a href=\"https://colab.research.google.com/github/Krishnaa548/Data_privacy_security/blob/main/RSA_algorithm_DPSexam.ipynb\" target=\"_parent\"><img src=\"https://colab.research.google.com/assets/colab-badge.svg\" alt=\"Open In Colab\"/></a>"
      ]
    },
    {
      "cell_type": "code",
      "source": [
        "import random\n",
        "import math\n",
        "from typing import Tuple, List\n",
        "import sympy"
      ],
      "metadata": {
        "id": "Uk2xntvt4CHI"
      },
      "execution_count": null,
      "outputs": []
    },
    {
      "cell_type": "code",
      "source": [
        "def gcd(a: int, b: int) -> int:\n",
        "    \"\"\"Calculate the Greatest Common Divisor of a and b.\"\"\"\n",
        "    while b:\n",
        "        a, b = b, a % b\n",
        "    return a"
      ],
      "metadata": {
        "id": "vCb1kKFr4CJm"
      },
      "execution_count": null,
      "outputs": []
    },
    {
      "cell_type": "code",
      "source": [
        "def extended_gcd(a: int, b: int) -> Tuple[int, int, int]:\n",
        "    \"\"\"\n",
        "    Extended Euclidean Algorithm\n",
        "    Returns (gcd, x, y) such that a*x + b*y = gcd\n",
        "    \"\"\"\n",
        "    if a == 0:\n",
        "        return b, 0, 1\n",
        "    else:\n",
        "        gcd, x1, y1 = extended_gcd(b % a, a)\n",
        "        x = y1 - (b // a) * x1\n",
        "        y = x1\n",
        "        return gcd, x, y"
      ],
      "metadata": {
        "id": "1jHsmZ4-5T9X"
      },
      "execution_count": null,
      "outputs": []
    },
    {
      "cell_type": "code",
      "source": [
        "def extended_gcd(a: int, b: int) -> Tuple[int, int, int]:\n",
        "    \"\"\"\n",
        "    Extended Euclidean Algorithm\n",
        "    Returns (gcd, x, y) such that a*x + b*y = gcd\n",
        "    \"\"\"\n",
        "    if a == 0:\n",
        "        return b, 0, 1\n",
        "    else:\n",
        "        gcd, x1, y1 = extended_gcd(b % a, a)\n",
        "        x = y1 - (b // a) * x1\n",
        "        y = x1\n",
        "        return gcd, x, y"
      ],
      "metadata": {
        "id": "DTQHq60v4CL3"
      },
      "execution_count": null,
      "outputs": []
    },
    {
      "cell_type": "code",
      "source": [
        "def generate_keypair(bits: int = 1024) -> Tuple[Tuple[int, int], Tuple[int, int]]:\n",
        "    \"\"\"\n",
        "    Generate an RSA key pair with a specific bit length.\n",
        "    Returns ((e, n), (d, n)) representing public and private keys.\n",
        "    \"\"\"\n",
        "    # Generate two distinct prime numbers\n",
        "    p = sympy.randprime(2**(bits//2-1), 2**(bits//2))\n",
        "    q = sympy.randprime(2**(bits//2-1), 2**(bits//2))\n",
        "    while p == q:\n",
        "        q = sympy.randprime(2**(bits//2-1), 2**(bits//2))\n",
        "\n",
        "    # Calculate n and the totient function phi(n)\n",
        "    n = p * q\n",
        "    phi = (p - 1) * (q - 1)\n",
        "\n",
        "    # Choose e such that 1 < e < phi and gcd(e, phi) = 1\n",
        "    e = 65537  # Common choice for e (a prime number)\n",
        "    if gcd(e, phi) != 1:\n",
        "        # If 65537 doesn't work, find another e\n",
        "        for i in range(3, 100000, 2):\n",
        "            if gcd(i, phi) == 1:\n",
        "                e = i\n",
        "                break\n",
        "\n",
        "    # Calculate d, the modular multiplicative inverse of e modulo phi\n",
        "    d = mod_inverse(e, phi)\n",
        "\n",
        "    return ((e, n), (d, n))"
      ],
      "metadata": {
        "id": "OMLHffm14COM"
      },
      "execution_count": null,
      "outputs": []
    },
    {
      "cell_type": "code",
      "source": [
        "def encrypt(public_key: Tuple[int, int], plaintext: int) -> int:\n",
        "    \"\"\"\n",
        "    Encrypt a message using RSA public key.\n",
        "\n",
        "    Args:\n",
        "        public_key: (e, n) - RSA public key\n",
        "        plaintext: Integer message to encrypt\n",
        "\n",
        "    Returns:\n",
        "        Encrypted message\n",
        "    \"\"\"\n",
        "    e, n = public_key\n",
        "\n",
        "    # Check if message is valid (less than n)\n",
        "    if plaintext >= n:\n",
        "        raise ValueError(\"Message too large for the given key size\")\n",
        "\n",
        "    # Encrypt: c = m^e mod n\n",
        "    ciphertext = pow(plaintext, e, n)\n",
        "    return ciphertext"
      ],
      "metadata": {
        "id": "wi_RPhmw4CQg"
      },
      "execution_count": null,
      "outputs": []
    },
    {
      "cell_type": "code",
      "source": [
        "def decrypt(private_key: Tuple[int, int], ciphertext: int) -> int:\n",
        "    \"\"\"\n",
        "    Decrypt a message using RSA private key.\n",
        "\n",
        "    Args:\n",
        "        private_key: (d, n) - RSA private key\n",
        "        ciphertext: Integer ciphertext to decrypt\n",
        "\n",
        "    Returns:\n",
        "        Decrypted message\n",
        "    \"\"\"\n",
        "    d, n = private_key\n",
        "\n",
        "    # Decrypt: m = c^d mod n\n",
        "    plaintext = pow(ciphertext, d, n)\n",
        "    return plaintext"
      ],
      "metadata": {
        "id": "gPypn1ng4CUy"
      },
      "execution_count": null,
      "outputs": []
    },
    {
      "cell_type": "code",
      "source": [
        "def text_to_int(text: str) -> List[int]:\n",
        "    \"\"\"Convert text to a list of integers.\"\"\"\n",
        "    # Convert each character to its ASCII value and combine blocks\n",
        "    # Each integer must be smaller than n\n",
        "    return [ord(char) for char in text]\n",
        "\n",
        "def int_to_text(integers: List[int]) -> str:\n",
        "    \"\"\"Convert a list of integers back to text.\"\"\"\n",
        "    return ''.join(chr(num) for num in integers)"
      ],
      "metadata": {
        "id": "yKx6QBgI4CYO"
      },
      "execution_count": null,
      "outputs": []
    },
    {
      "cell_type": "code",
      "source": [
        "import random\n",
        "import math\n",
        "from typing import Tuple, List\n",
        "import sympy  # For prime number generation\n",
        "\n",
        "def gcd(a: int, b: int) -> int:\n",
        "    \"\"\"Calculate the Greatest Common Divisor of a and b.\"\"\"\n",
        "    while b:\n",
        "        a, b = b, a % b\n",
        "    return a\n",
        "\n",
        "def extended_gcd(a: int, b: int) -> Tuple[int, int, int]:\n",
        "    \"\"\"\n",
        "    Extended Euclidean Algorithm\n",
        "    Returns (gcd, x, y) such that a*x + b*y = gcd\n",
        "    \"\"\"\n",
        "    if a == 0:\n",
        "        return b, 0, 1\n",
        "    else:\n",
        "        gcd, x1, y1 = extended_gcd(b % a, a)\n",
        "        x = y1 - (b // a) * x1\n",
        "        y = x1\n",
        "        return gcd, x, y\n",
        "\n",
        "def mod_inverse(a: int, m: int) -> int:\n",
        "    \"\"\"\n",
        "    Calculate the modular multiplicative inverse of a modulo m.\n",
        "\n",
        "    Returns x such that (a * x) % m == 1\n",
        "    \"\"\"\n",
        "    gcd, x, y = extended_gcd(a, m)\n",
        "    if gcd != 1:\n",
        "        raise ValueError(\"Modular inverse does not exist\")\n",
        "    else:\n",
        "        return x % m\n",
        "\n",
        "def generate_keypair(bits: int = 1024) -> Tuple[Tuple[int, int], Tuple[int, int]]:\n",
        "    \"\"\"\n",
        "    Generate an RSA key pair with a specific bit length.\n",
        "    Returns ((e, n), (d, n)) representing public and private keys.\n",
        "    \"\"\"\n",
        "    # Generate two distinct prime numbers\n",
        "    p = sympy.randprime(2**(bits//2-1), 2**(bits//2))\n",
        "    q = sympy.randprime(2**(bits//2-1), 2**(bits//2))\n",
        "    while p == q:\n",
        "        q = sympy.randprime(2**(bits//2-1), 2**(bits//2))\n",
        "\n",
        "    # Calculate n and the totient function phi(n)\n",
        "    n = p * q\n",
        "    phi = (p - 1) * (q - 1)\n",
        "\n",
        "    # Choose e such that 1 < e < phi and gcd(e, phi) = 1\n",
        "    e = 65537  # Common choice for e (a prime number)\n",
        "    if gcd(e, phi) != 1:\n",
        "        # If 65537 doesn't work, find another e\n",
        "        for i in range(3, 100000, 2):\n",
        "            if gcd(i, phi) == 1:\n",
        "                e = i\n",
        "                break\n",
        "\n",
        "    # Calculate d, the modular multiplicative inverse of e modulo phi\n",
        "    d = mod_inverse(e, phi)\n",
        "\n",
        "    return ((e, n), (d, n))"
      ],
      "metadata": {
        "id": "0sNwA72o5ial"
      },
      "execution_count": null,
      "outputs": []
    },
    {
      "cell_type": "code",
      "source": [
        "def rsa_for_large_data(public_key: Tuple[int, int],\n",
        "                       private_key: Tuple[int, int],\n",
        "                       message: str,\n",
        "                       block_size: int = 8) -> None:\n",
        "    \"\"\"\n",
        "    Demonstrate RSA for larger data by breaking it into blocks.\n",
        "\n",
        "    Args:\n",
        "        public_key: RSA public key\n",
        "        private_key: RSA private key\n",
        "        message: Message to encrypt/decrypt\n",
        "        block_size: Size of each block in bytes\n",
        "    \"\"\"\n",
        "    # Get modulus size\n",
        "    _, n = public_key\n",
        "\n",
        "    # Convert message to bytes and process in blocks\n",
        "    message_bytes = message.encode('utf-8')\n",
        "\n",
        "    # Encrypt message block by block\n",
        "    encrypted_blocks = []\n",
        "    for i in range(0, len(message_bytes), block_size):\n",
        "        block = message_bytes[i:i+block_size]\n",
        "        # Convert block to integer\n",
        "        block_int = int.from_bytes(block, byteorder='big')\n",
        "        # Encrypt\n",
        "        encrypted_block = encrypt(public_key, block_int)\n",
        "        encrypted_blocks.append(encrypted_block)\n",
        "\n",
        "    print(f\"Encrypted blocks: {encrypted_blocks}\")\n",
        "\n",
        "    # Decrypt message block by block\n",
        "    decrypted_bytes = bytearray()\n",
        "    for encrypted_block in encrypted_blocks:\n",
        "        # Decrypt block\n",
        "        decrypted_block = decrypt(private_key, encrypted_block)\n",
        "        # Convert back to bytes\n",
        "        block_bytes = decrypted_block.to_bytes(block_size, byteorder='big')\n",
        "        decrypted_bytes.extend(block_bytes)\n",
        "\n",
        "    # Convert bytes to string\n",
        "    decrypted_message = decrypted_bytes.decode('utf-8', errors='ignore')\n",
        "    print(f\"Decrypted message: {decrypted_message}\")"
      ],
      "metadata": {
        "id": "g3L5GIeQ5ieJ"
      },
      "execution_count": null,
      "outputs": []
    },
    {
      "cell_type": "code",
      "source": [
        "# Generate a stronger key pair for practical use\n",
        "public_key, private_key = generate_keypair(bits=512)\n",
        "\n",
        "# Test with a longer message\n",
        "longer_message = \"RSA (Rivest–Shamir–Adleman) is a public-key cryptosystem that is widely used for secure data transmission.\"\n",
        "print(f\"Original message: {longer_message}\")\n",
        "\n",
        "# Use the optimized function for larger data\n",
        "rsa_for_large_data(public_key, private_key, longer_message, block_size=4)"
      ],
      "metadata": {
        "id": "RLkDXQV75qy_",
        "outputId": "c6271720-0feb-421e-935b-c0bb0acf6821",
        "colab": {
          "base_uri": "https://localhost:8080/"
        }
      },
      "execution_count": null,
      "outputs": [
        {
          "output_type": "stream",
          "name": "stdout",
          "text": [
            "Original message: RSA (Rivest–Shamir–Adleman) is a public-key cryptosystem that is widely used for secure data transmission.\n",
            "Encrypted blocks: [2622975723812812809667333190730072042201405386010609021851331387682667935135734341132366100946907832275121474452863854602090870228694902246302603194800633, 4439113501158935342756472029007128207101097347059077126272306604929251951521830285231326839058157800258802448938603698219925667862839037819433713776885833, 8571306103048148785346892017928422643357274482820194873389896760896262265753275712117062023338847783270547467482028585290052844100021532088735622279279609, 6158691191511619146483563725824980937279757077398540286645551928920991146433472780942954050055218157058230897408425433131385209471835357034767864255164699, 4368797552215541408989212021495238103357421715425708073929804530012904688531505945099328255103990419600110761598769689155609956153512289460454015089398287, 4346598400531016332833451816298331538264599065504383025087844114186512025459480945474454826636037821680157498653265003612257873445266975300833832739977712, 8611232302055012698766972376499541982678718974539404237725631746551320891390204550224436089996635598836073739768050776491560799122268553817965229384720775, 1548180743438988889372540200712176887077737146016452351110029892484503313613098798403802684531777350139761002645538364000832886870787777604143752913457778, 5176290113681845391913255665961034219100529556103452685079832292822978770976263645924907436074138886875870197754932740079995121089773483182037432278555266, 5815832273513461287481517199437684698710315608314056320763543680177293254051790519006366516433723804705957497556491908675722417748461947076708359821197612, 1601149571902119344124757654085261354779460213040448122466909103349160166972897439175376877678056096765722935163921947128100149854787471484362270195731351, 8066128086689717115138785604633600182843251545725225297045411689004382290821056638801768754124588207168393270823471340801708353576927819519977666646642992, 5944969881057761413742371330421324238549382195917523324581703186218884412881083724105586407583013705382348300136036570934016749643488582668910498756246948, 6873307278741539552858552473750900203946661405920733008010029196474952140977896890991892959364321152990714157161679835754808773760832638664493602964048811, 3765907267278552266510543074079125996350755361040172938232675930578615714382503231804580384015928845408802261180524213407674430720481764414472329377890182, 6402567065046927543898194579772258093304949054648430128809087603075210115247799591102493626478982028477665314205408754972413955615448018450255045809275372, 1958997428293055623331835644361863284090359374078866076888294384044928324351394965926829131536063885993546376246984499355214779712940344925681129971464191, 5564072112519094497429339748758279024385212427337537277076133745683955785398735579132558909363389836634072361112744066952329983724722594317206589894853157, 8311890266793797416344216409149120729304761199388608918871726450742593108819816131521043905490470408924367997624063998156075845714492005605365767943660341, 5151708609303840102476479599311608958311716728103599127451185724473562076249735913743352293280523279403593593943724673547601283547853075158234794448733270, 6896971776442600495331034478872103107747725988205850867898583247977904290028053938222861582818438191960989144154288848008913996062203024579858288722324520, 2118033303083804312234271800794534922904173982477370756200294316230753629211385912844535248347333549579513355931628668631458331526388671635896947971857613, 7143461529038042096177373049881210702629023708450441711215875916312298564784113090146320088630230238263030755992655454987193504417177036507760968106784152, 6179460876670125207790173191616468915518776303257289986579841976491293798881517891289107534915924352992009998077326002097444727870283730771369873017881401, 3302852715209940995642287081965326700276719342313357225898723033049129033038940464198685847665677628888060406789483077079189687959799566475743175051772168, 6868596544611939690688142393953924631423979938815532129001788017736356579859359719495295508963239028059386946695967409003054031004874522063747765217637588, 6405491894464781407780448955835582441311550089800337898312704380936648244533096498872929236138450085566163970276454021003972677514546727256885921579987877, 6711975339758743413702897143907633137762635361643536961555246104215813855544753074277173240742127573210940138041266715820635517702188700879630548890876410]\n",
            "Decrypted message: RSA (Rivest–Shamir–Adleman) is a public-key cryptosystem that is widely used for secure data transmissio\u0000\u0000n.\n"
          ]
        }
      ]
    }
  ],
  "metadata": {
    "colab": {
      "provenance": [],
      "include_colab_link": true
    },
    "kernelspec": {
      "display_name": "Python 3",
      "name": "python3"
    }
  },
  "nbformat": 4,
  "nbformat_minor": 0
}