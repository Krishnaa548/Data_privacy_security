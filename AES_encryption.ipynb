{
  "cells": [
    {
      "cell_type": "markdown",
      "metadata": {
        "id": "view-in-github",
        "colab_type": "text"
      },
      "source": [
        "<a href=\"https://colab.research.google.com/github/Krishnaa548/Data_privacy_security/blob/main/AES_encryption.ipynb\" target=\"_parent\"><img src=\"https://colab.research.google.com/assets/colab-badge.svg\" alt=\"Open In Colab\"/></a>"
      ]
    },
    {
      "cell_type": "code",
      "source": [
        "!pip install pycryptodome"
      ],
      "metadata": {
        "id": "_V2JMxOidPUU",
        "outputId": "de2178a1-1028-477d-f646-17b47fa1d481",
        "colab": {
          "base_uri": "https://localhost:8080/"
        }
      },
      "execution_count": null,
      "outputs": [
        {
          "output_type": "stream",
          "name": "stdout",
          "text": [
            "Collecting pycryptodome\n",
            "  Downloading pycryptodome-3.21.0-cp36-abi3-manylinux_2_17_x86_64.manylinux2014_x86_64.whl.metadata (3.4 kB)\n",
            "Downloading pycryptodome-3.21.0-cp36-abi3-manylinux_2_17_x86_64.manylinux2014_x86_64.whl (2.3 MB)\n",
            "\u001b[2K   \u001b[90m━━━━━━━━━━━━━━━━━━━━━━━━━━━━━━━━━━━━━━━━\u001b[0m \u001b[32m2.3/2.3 MB\u001b[0m \u001b[31m8.7 MB/s\u001b[0m eta \u001b[36m0:00:00\u001b[0m\n",
            "\u001b[?25hInstalling collected packages: pycryptodome\n",
            "Successfully installed pycryptodome-3.21.0\n"
          ]
        }
      ]
    },
    {
      "cell_type": "code",
      "source": [
        "from IPython import get_ipython\n",
        "from IPython.display import display"
      ],
      "metadata": {
        "id": "93Htc5armAwD"
      },
      "execution_count": null,
      "outputs": []
    },
    {
      "cell_type": "code",
      "source": [
        "\n",
        "from Crypto.Cipher import AES\n",
        "from Crypto.Util.Padding import pad, unpad\n",
        "from Crypto.Random import get_random_bytes"
      ],
      "metadata": {
        "id": "jZ3wsQ8IdRMx"
      },
      "execution_count": null,
      "outputs": []
    },
    {
      "cell_type": "code",
      "source": [
        "def encrypt_data(plain_text, key):\n",
        "    cipher = AES.new(key, AES.MODE_CBC)\n",
        "    iv = cipher\n",
        "    encrypt_data = cipher.encrypt(pad(plain_text, AES.block_size))\n",
        "    return iv, encrypt_data"
      ],
      "metadata": {
        "id": "yNnubgjjmoMK"
      },
      "execution_count": null,
      "outputs": []
    },
    {
      "cell_type": "code",
      "source": [
        "def decrypt_data(iv, encrypt_data, key):\n",
        "    cipher = AES.new(key, AES.MODE_CBC, iv)\n",
        "    decrypt_data = unpad(cipher.decrypt(encrypt_data), AES.block_size)\n",
        "    return decrypt_data"
      ],
      "metadata": {
        "id": "r9RKds7snAIL"
      },
      "execution_count": null,
      "outputs": []
    },
    {
      "cell_type": "code",
      "source": [
        "key = get_random_bytes(16)\n",
        "plain_text = \"Hi Good morning\"\n",
        "encrypt_text = encrypt_data(plain_text.encode(), key)\n",
        "print(\"Encrypted:\",encrypt_text)\n",
        "decrypt_text = decrypt_data(encrypt_text[0], encrypt_text[1], key)\n",
        "print(\"Decrypted:\",decrypt_text)"
      ],
      "metadata": {
        "id": "FP2vaWGKnGT_",
        "outputId": "71381930-5b98-4d9e-87c2-7057aa647fa4",
        "colab": {
          "base_uri": "https://localhost:8080/"
        }
      },
      "execution_count": null,
      "outputs": [
        {
          "output_type": "stream",
          "name": "stdout",
          "text": [
            "Encrypted: (b'\\x0fj\\x88\\xdb\\xc2\\xaf\\x8e5\\xd4\\xf4\\x95c\\xea\\xa0\\xbcU', b'\\x87\\xf6\\xf1x\\xcfe\\xaa\\x0c&j\\x13G\\xb6k\\xd6c')\n",
            "Decrypted: b'Hi Good morning'\n"
          ]
        }
      ]
    },
    {
      "cell_type": "code",
      "source": [],
      "metadata": {
        "id": "RIuMttV1nGbS"
      },
      "execution_count": null,
      "outputs": []
    },
    {
      "cell_type": "code",
      "source": [],
      "metadata": {
        "id": "Mdds7YzSnGe5"
      },
      "execution_count": null,
      "outputs": []
    }
  ],
  "metadata": {
    "colab": {
      "toc_visible": true,
      "provenance": [],
      "include_colab_link": true
    },
    "kernelspec": {
      "display_name": "Python 3",
      "name": "python3"
    }
  },
  "nbformat": 4,
  "nbformat_minor": 0
}