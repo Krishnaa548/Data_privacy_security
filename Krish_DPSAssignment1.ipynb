{
  "nbformat": 4,
  "nbformat_minor": 0,
  "metadata": {
    "colab": {
      "provenance": []
    },
    "kernelspec": {
      "name": "python3",
      "display_name": "Python 3"
    },
    "language_info": {
      "name": "python"
    }
  },
  "cells": [
    {
      "cell_type": "code",
      "source": [
        "!pip install pandas\n",
        "!pip install tabulate\n",
        "import pandas as pd\n",
        "\n",
        "from tabulate import tabulate"
      ],
      "metadata": {
        "colab": {
          "base_uri": "https://localhost:8080/"
        },
        "id": "Cze2DbWTvXu1",
        "outputId": "73e80f74-60d8-4d6f-e200-494236d0bf46"
      },
      "execution_count": null,
      "outputs": [
        {
          "output_type": "stream",
          "name": "stdout",
          "text": [
            "Requirement already satisfied: pandas in /usr/local/lib/python3.11/dist-packages (2.2.2)\n",
            "Requirement already satisfied: numpy>=1.23.2 in /usr/local/lib/python3.11/dist-packages (from pandas) (1.26.4)\n",
            "Requirement already satisfied: python-dateutil>=2.8.2 in /usr/local/lib/python3.11/dist-packages (from pandas) (2.8.2)\n",
            "Requirement already satisfied: pytz>=2020.1 in /usr/local/lib/python3.11/dist-packages (from pandas) (2025.1)\n",
            "Requirement already satisfied: tzdata>=2022.7 in /usr/local/lib/python3.11/dist-packages (from pandas) (2025.1)\n",
            "Requirement already satisfied: six>=1.5 in /usr/local/lib/python3.11/dist-packages (from python-dateutil>=2.8.2->pandas) (1.17.0)\n",
            "Requirement already satisfied: tabulate in /usr/local/lib/python3.11/dist-packages (0.9.0)\n"
          ]
        }
      ]
    },
    {
      "cell_type": "code",
      "source": [
        "!pip install Faker\n",
        "\n",
        "import pandas as pd\n",
        "import random\n",
        "from faker import Faker\n",
        "\n",
        "# Initialize Faker\n",
        "fake = Faker()\n",
        "\n",
        "# Number of records to generate (30 people)\n",
        "num_samples = 30\n",
        "\n",
        "# Predefined options for certain columns\n",
        "store_categories = [\"Electronics\", \"Clothing\", \"Groceries\", \"Home Decor\", \"Books\"]\n",
        "transaction_types = [\"cash\", \"upi\", \"netbanking\"]\n",
        "email_domains = [\"gmail.com\", \"yahoo.com\", \"hotmail.com\"]\n",
        "\n",
        "# Generate synthetic data for each column\n",
        "data = {\n",
        "    \"Name\": [fake.name() for _ in range(num_samples)],\n",
        "    \"Date\": [fake.date_between(start_date=\"-30d\", end_date=\"today\") for _ in range(num_samples)],\n",
        "    \"Time\": [fake.time() for _ in range(num_samples)],\n",
        "    \"Store Category\": [random.choice(store_categories) for _ in range(num_samples)],\n",
        "    \"Email\": [f\"{fake.user_name()}@{random.choice(email_domains)}\" for _ in range(num_samples)],\n",
        "    \"Phone Number\": [f\"+91{random.randint(6000000000, 9999999999)}\" for _ in range(num_samples)],\n",
        "    \"Address\": [fake.address().replace(\"\\n\", \", \") for _ in range(num_samples)],\n",
        "    \"Transaction Type\": [random.choice(transaction_types) for _ in range(num_samples)],\n",
        "    \"Amount\": [round(random.uniform(10.0, 500.0), 2) for _ in range(num_samples)],\n",
        "    \"Zip Code\": [fake.zipcode() for _ in range(num_samples)]\n",
        "}\n",
        "\n",
        "# Create the DataFrame\n",
        "df_retail = pd.DataFrame(data)\n",
        "\n",
        "# Display the first few rows of the dataset\n",
        "print(\"===== Synthetic Retail Dataset (30 Records) =====\")\n",
        "print(df_retail.head())\n",
        "\n",
        "# Save the DataFrame to an Excel file\n",
        "df_retail.to_excel('/content/Retail_Stop_Dataset_Final.xlsx', index=False)\n",
        "print(\"\\nDataset saved to '/content/Retail_Stop_Dataset_Final.xlsx'\")\n"
      ],
      "metadata": {
        "colab": {
          "base_uri": "https://localhost:8080/"
        },
        "id": "bm-m_9bbD2l-",
        "outputId": "cae0c106-0d45-4eed-8045-1078cbf5c6eb"
      },
      "execution_count": null,
      "outputs": [
        {
          "output_type": "stream",
          "name": "stdout",
          "text": [
            "Requirement already satisfied: Faker in /usr/local/lib/python3.11/dist-packages (36.1.1)\n",
            "Requirement already satisfied: tzdata in /usr/local/lib/python3.11/dist-packages (from Faker) (2025.1)\n",
            "===== Synthetic Retail Dataset (30 Records) =====\n",
            "                Name        Date      Time Store Category  \\\n",
            "0      Bridget Jones  2025-02-12  11:10:46          Books   \n",
            "1      Rebecca Chang  2025-01-25  09:25:33          Books   \n",
            "2       Laura Howell  2025-02-01  08:17:10          Books   \n",
            "3  Alexander Mcbride  2025-02-19  04:00:36          Books   \n",
            "4       Sandra Hines  2025-01-27  00:08:46     Home Decor   \n",
            "\n",
            "                       Email   Phone Number  \\\n",
            "0     kristibrooks@yahoo.com  +916885985401   \n",
            "1         iosborne@gmail.com  +918661580241   \n",
            "2  kimberlyjones@hotmail.com  +919770391418   \n",
            "3  mcdonaldpaula@hotmail.com  +919692841050   \n",
            "4  matthewthompson@yahoo.com  +919921746539   \n",
            "\n",
            "                                             Address Transaction Type  Amount  \\\n",
            "0  29018 Ortiz Circle Suite 116, Lake Victoria, N...             cash  354.74   \n",
            "1         928 Anderson Village, Clarkmouth, NC 22259             cash  293.38   \n",
            "2  295 Amanda Squares Apt. 938, East Rebecca, MA ...       netbanking  434.07   \n",
            "3                   PSC 9614, Box 7529, APO AP 88051             cash   24.93   \n",
            "4   1651 Castaneda Viaduct, Port Sarahside, ND 86332       netbanking  340.11   \n",
            "\n",
            "  Zip Code  \n",
            "0    12504  \n",
            "1    55136  \n",
            "2    03138  \n",
            "3    14953  \n",
            "4    66511  \n",
            "\n",
            "Dataset saved to '/content/Retail_Stop_Dataset_Final.xlsx'\n"
          ]
        }
      ]
    },
    {
      "cell_type": "code",
      "execution_count": null,
      "metadata": {
        "colab": {
          "base_uri": "https://localhost:8080/"
        },
        "id": "xncZOHmMvMWE",
        "outputId": "016fc7a6-bd92-49df-87a6-fb5b3b071290"
      },
      "outputs": [
        {
          "output_type": "stream",
          "name": "stdout",
          "text": [
            "\n",
            "===================== ORIGINAL DATASET =====================\n",
            "\n",
            "+----+-------------------+---------------------+----------+------------------+---------------------------+----------------+-------------------------------------------------------+--------------------+----------+------------+\n",
            "|    | Name              | Date                | Time     | Store Category   | Email                     |   Phone Number | Address                                               | Transaction Type   |   Amount |   Zip Code |\n",
            "+====+===================+=====================+==========+==================+===========================+================+=======================================================+====================+==========+============+\n",
            "|  0 | Bridget Jones     | 2025-02-12 00:00:00 | 11:10:46 | Books            | kristibrooks@yahoo.com    |   916885985401 | 29018 Ortiz Circle Suite 116, Lake Victoria, NY 68841 | cash               |   354.74 |      12504 |\n",
            "+----+-------------------+---------------------+----------+------------------+---------------------------+----------------+-------------------------------------------------------+--------------------+----------+------------+\n",
            "|  1 | Rebecca Chang     | 2025-01-25 00:00:00 | 09:25:33 | Books            | iosborne@gmail.com        |   918661580241 | 928 Anderson Village, Clarkmouth, NC 22259            | cash               |   293.38 |      55136 |\n",
            "+----+-------------------+---------------------+----------+------------------+---------------------------+----------------+-------------------------------------------------------+--------------------+----------+------------+\n",
            "|  2 | Laura Howell      | 2025-02-01 00:00:00 | 08:17:10 | Books            | kimberlyjones@hotmail.com |   919770391418 | 295 Amanda Squares Apt. 938, East Rebecca, MA 88086   | netbanking         |   434.07 |       3138 |\n",
            "+----+-------------------+---------------------+----------+------------------+---------------------------+----------------+-------------------------------------------------------+--------------------+----------+------------+\n",
            "|  3 | Alexander Mcbride | 2025-02-19 00:00:00 | 04:00:36 | Books            | mcdonaldpaula@hotmail.com |   919692841050 | PSC 9614, Box 7529, APO AP 88051                      | cash               |    24.93 |      14953 |\n",
            "+----+-------------------+---------------------+----------+------------------+---------------------------+----------------+-------------------------------------------------------+--------------------+----------+------------+\n",
            "|  4 | Sandra Hines      | 2025-01-27 00:00:00 | 00:08:46 | Home Decor       | matthewthompson@yahoo.com |   919921746539 | 1651 Castaneda Viaduct, Port Sarahside, ND 86332      | netbanking         |   340.11 |      66511 |\n",
            "+----+-------------------+---------------------+----------+------------------+---------------------------+----------------+-------------------------------------------------------+--------------------+----------+------------+\n",
            "\n",
            "============================================================\n",
            "\n",
            "\n",
            "===================== AFTER APPLYING K-ANONYMITY =====================\n",
            "\n",
            "+----+-------------------+---------------------+----------+------------------+--------------------+----------------+-----------+--------------------+----------+------------+\n",
            "|    | Name              | Date                | Time     | Store Category   | Email              | Phone Number   |   Address | Transaction Type   |   Amount | Zip Code   |\n",
            "+====+===================+=====================+==========+==================+====================+================+===========+====================+==========+============+\n",
            "|  0 | Bridget Jones     | 2025-02-12 00:00:00 | 11:10:46 | Books            | kri***@yahoo.com   | ***-***-401    |     12504 | cash               |   354.74 | 125**      |\n",
            "+----+-------------------+---------------------+----------+------------------+--------------------+----------------+-----------+--------------------+----------+------------+\n",
            "|  1 | Rebecca Chang     | 2025-01-25 00:00:00 | 09:25:33 | Books            | ios***@gmail.com   | ***-***-241    |     55136 | cash               |   293.38 | 551**      |\n",
            "+----+-------------------+---------------------+----------+------------------+--------------------+----------------+-----------+--------------------+----------+------------+\n",
            "|  2 | Laura Howell      | 2025-02-01 00:00:00 | 08:17:10 | Books            | kim***@hotmail.com | ***-***-418    |      3138 | netbanking         |   434.07 | 313**      |\n",
            "+----+-------------------+---------------------+----------+------------------+--------------------+----------------+-----------+--------------------+----------+------------+\n",
            "|  3 | Alexander Mcbride | 2025-02-19 00:00:00 | 04:00:36 | Books            | mcd***@hotmail.com | ***-***-050    |     14953 | cash               |    24.93 | 149**      |\n",
            "+----+-------------------+---------------------+----------+------------------+--------------------+----------------+-----------+--------------------+----------+------------+\n",
            "|  4 | Sandra Hines      | 2025-01-27 00:00:00 | 00:08:46 | Home Decor       | mat***@yahoo.com   | ***-***-539    |     66511 | netbanking         |   340.11 | 665**      |\n",
            "+----+-------------------+---------------------+----------+------------------+--------------------+----------------+-----------+--------------------+----------+------------+\n",
            "\n",
            "======================================================================\n",
            "\n",
            "\n",
            "===================== AFTER APPLYING L-DIVERSITY =====================\n",
            "\n",
            "+----+-------------------+---------------------+----------+------------------+--------------------+----------------+-----------+--------------------+----------+------------+\n",
            "|    | Name              | Date                | Time     | Store Category   | Email              | Phone Number   |   Address | Transaction Type   |   Amount | Zip Code   |\n",
            "+====+===================+=====================+==========+==================+====================+================+===========+====================+==========+============+\n",
            "|  0 | Bridget Jones     | 2025-02-12 00:00:00 | 11:10:46 | Books            | kri***@yahoo.com   | ***-***-401    |     12504 | cash               |   354.74 | 125**      |\n",
            "+----+-------------------+---------------------+----------+------------------+--------------------+----------------+-----------+--------------------+----------+------------+\n",
            "|  1 | Rebecca Chang     | 2025-01-25 00:00:00 | 09:25:33 | Books            | ios***@gmail.com   | ***-***-241    |     55136 | cash               |   293.38 | 551**      |\n",
            "+----+-------------------+---------------------+----------+------------------+--------------------+----------------+-----------+--------------------+----------+------------+\n",
            "|  2 | Laura Howell      | 2025-02-01 00:00:00 | 08:17:10 | Books            | kim***@hotmail.com | ***-***-418    |      3138 | netbanking         |   434.07 | 313**      |\n",
            "+----+-------------------+---------------------+----------+------------------+--------------------+----------------+-----------+--------------------+----------+------------+\n",
            "|  3 | Alexander Mcbride | 2025-02-19 00:00:00 | 04:00:36 | Books            | mcd***@hotmail.com | ***-***-050    |     14953 | cash               |    24.93 | 149**      |\n",
            "+----+-------------------+---------------------+----------+------------------+--------------------+----------------+-----------+--------------------+----------+------------+\n",
            "|  5 | Nicole Collins    | 2025-02-01 00:00:00 | 08:30:49 | Electronics      | cal***@hotmail.com | ***-***-688    |     80924 | netbanking         |   398.6  | 809**      |\n",
            "+----+-------------------+---------------------+----------+------------------+--------------------+----------------+-----------+--------------------+----------+------------+\n",
            "\n",
            "======================================================================\n",
            "\n",
            "\n",
            "===================== AFTER APPLYING T-CLOSENESS =====================\n",
            "\n",
            "+----+-------------------+---------------------+----------+------------------+--------------------+----------------+-----------+--------------------+----------+------------+\n",
            "|    | Name              | Date                | Time     | Store Category   | Email              | Phone Number   |   Address | Transaction Type   |   Amount | Zip Code   |\n",
            "+====+===================+=====================+==========+==================+====================+================+===========+====================+==========+============+\n",
            "|  0 | Bridget Jones     | 2025-02-12 00:00:00 | 11:10:46 | Books            | kri***@yahoo.com   | ***-***-401    |     12504 | cash               |   354.74 | 125**      |\n",
            "+----+-------------------+---------------------+----------+------------------+--------------------+----------------+-----------+--------------------+----------+------------+\n",
            "|  1 | Rebecca Chang     | 2025-01-25 00:00:00 | 09:25:33 | Books            | ios***@gmail.com   | ***-***-241    |     55136 | cash               |   293.38 | 551**      |\n",
            "+----+-------------------+---------------------+----------+------------------+--------------------+----------------+-----------+--------------------+----------+------------+\n",
            "|  2 | Laura Howell      | 2025-02-01 00:00:00 | 08:17:10 | Books            | kim***@hotmail.com | ***-***-418    |      3138 | netbanking         |   434.07 | 313**      |\n",
            "+----+-------------------+---------------------+----------+------------------+--------------------+----------------+-----------+--------------------+----------+------------+\n",
            "|  3 | Alexander Mcbride | 2025-02-19 00:00:00 | 04:00:36 | Books            | mcd***@hotmail.com | ***-***-050    |     14953 | cash               |    24.93 | 149**      |\n",
            "+----+-------------------+---------------------+----------+------------------+--------------------+----------------+-----------+--------------------+----------+------------+\n",
            "|  5 | Nicole Collins    | 2025-02-01 00:00:00 | 08:30:49 | Electronics      | cal***@hotmail.com | ***-***-688    |     80924 | netbanking         |   398.6  | 809**      |\n",
            "+----+-------------------+---------------------+----------+------------------+--------------------+----------------+-----------+--------------------+----------+------------+\n",
            "\n",
            "======================================================================\n",
            "\n"
          ]
        },
        {
          "output_type": "stream",
          "name": "stderr",
          "text": [
            "<ipython-input-5-1ca6caa9e4f3>:44: DeprecationWarning: DataFrameGroupBy.apply operated on the grouping columns. This behavior is deprecated, and in a future version of pandas the grouping columns will be excluded from the operation. Either pass `include_groups=False` to exclude the groupings or explicitly select the grouping columns after groupby to silence this warning.\n",
            "  df_gas_tcloseness = df_gas_ldiversity.groupby('Amount', group_keys=False).apply(lambda x: t_closeness_sample(x, amount_distribution))\n"
          ]
        }
      ],
      "source": [
        "# Re-load the dataset to ensure consistency\n",
        "df_gas = pd.read_excel('/content/Retail_Stop_Dataset_Final.xlsx')\n",
        "\n",
        "# Step 1: Display Original Dataset\n",
        "print(\"\\n===================== ORIGINAL DATASET =====================\\n\")\n",
        "print(tabulate(df_gas.head(), headers='keys', tablefmt='grid'))\n",
        "print(\"\\n============================================================\\n\")\n",
        "\n",
        "# Step 2: Apply K-Anonymity\n",
        "# Hidden (Email): Mask Email\n",
        "df_gas['Email'] = df_gas['Email'].apply(lambda x: x[:3] + \"***@\" + x.split('@')[1] if pd.notna(x) else x)\n",
        "\n",
        "# Sensitive (Phone Number): Partially mask Phone Number\n",
        "df_gas['Phone Number'] = df_gas['Phone Number'].astype(str).apply(lambda x: \"***-***-\" + x[-3:])\n",
        "\n",
        "# Data Masking (Address): Generalize to Zip Code level\n",
        "df_gas['Address'] = df_gas['Zip Code']\n",
        "df_gas['Zip Code'] = df_gas['Zip Code'].astype(str).apply(lambda x: x[:3] + \"**\" if pd.notna(x) else x)\n",
        "\n",
        "print(\"\\n===================== AFTER APPLYING K-ANONYMITY =====================\\n\")\n",
        "print(tabulate(df_gas[['Name','Date','Time','Store Category','Email', 'Phone Number', 'Address', 'Transaction Type', 'Amount','Zip Code']].head(), headers='keys', tablefmt='grid'))\n",
        "print(\"\\n======================================================================\\n\")\n",
        "\n",
        "# Step 3: Apply L-Diversity\n",
        "# Ensure diversity in Transaction Type within groups\n",
        "def check_l_diversity(group, column, l):\n",
        "    return group[column].nunique() >= l\n",
        "\n",
        "df_gas_ldiversity = df_gas.groupby(['Store Category']).filter(lambda x: check_l_diversity(x, 'Transaction Type', 2))\n",
        "\n",
        "print(\"\\n===================== AFTER APPLYING L-DIVERSITY =====================\\n\")\n",
        "print(tabulate(df_gas_ldiversity[['Name','Date','Time','Store Category','Email', 'Phone Number', 'Address', 'Transaction Type', 'Amount','Zip Code']].head(), headers='keys', tablefmt='grid'))\n",
        "print(\"\\n======================================================================\\n\")\n",
        "\n",
        "# Step 4: Apply T-Closeness\n",
        "# Adjusted to ensure at least one row per group\n",
        "amount_distribution = df_gas_ldiversity['Amount'].value_counts(normalize=True)\n",
        "\n",
        "def t_closeness_sample(group, dist):\n",
        "    frac = dist[group.name]\n",
        "    sample_size = max(1, int(len(group) * frac))  # Ensure at least one sample per group\n",
        "    return group.sample(n=sample_size, random_state=42)\n",
        "\n",
        "df_gas_tcloseness = df_gas_ldiversity.groupby('Amount', group_keys=False).apply(lambda x: t_closeness_sample(x, amount_distribution))\n",
        "\n",
        "print(\"\\n===================== AFTER APPLYING T-CLOSENESS =====================\\n\")\n",
        "print(tabulate(df_gas_tcloseness[['Name','Date','Time','Store Category','Email', 'Phone Number', 'Address', 'Transaction Type', 'Amount','Zip Code']].head(), headers='keys', tablefmt='grid'))\n",
        "print(\"\\n======================================================================\\n\")"
      ]
    },
    {
      "cell_type": "code",
      "source": [],
      "metadata": {
        "id": "Nh0scjYHwDLm"
      },
      "execution_count": null,
      "outputs": []
    }
  ]
}